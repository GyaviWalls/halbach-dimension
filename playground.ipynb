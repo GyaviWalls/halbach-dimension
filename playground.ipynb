{
 "cells": [
  {
   "cell_type": "code",
   "execution_count": 1,
   "id": "2018332a-bb09-401f-9d8e-2f55937743c5",
   "metadata": {},
   "outputs": [],
   "source": [
    "def generate_halbach_array(dimensions):\n",
    "    \"\"\"\n",
    "    Generate a Halbach array with the given dimensions.\n",
    "    \n",
    "    Args:\n",
    "        dimensions (tuple): A tuple of integers representing the number of magnets\n",
    "                           in each dimension (e.g., (3, 3, 3) for a 3D array).\n",
    "                           The maximum number of dimensions is 12.\n",
    "    \n",
    "    Returns:\n",
    "        list: A multi-dimensional list representing the Halbach array, where each\n",
    "             element is a string indicating the direction of the magnetic field\n",
    "             ('N', 'S', 'E', 'W').\n",
    "    \"\"\"\n",
    "    max_dimensions = 12\n",
    "    if len(dimensions) > max_dimensions:\n",
    "        raise ValueError(f\"Maximum number of dimensions is {max_dimensions}\")\n",
    "    \n",
    "    halbach_array = [['N', 'W', 'S'] for _ in range(dimensions[0])]\n",
    "    for i in range(1, len(dimensions)):\n",
    "        halbach_array = [[row.copy() for _ in range(dimensions[i])] for row in halbach_array]\n",
    "    \n",
    "    for i in range(len(halbach_array)):\n",
    "        for j in range(len(halbach_array[i])):\n",
    "            for k in range(len(halbach_array[i][j])):\n",
    "                # Rotate the magnetic field direction by 90 degrees\n",
    "                halbach_array[i][j][k] = ['N', 'W', 'S'][k % 3]\n",
    "                for l in range(i):\n",
    "                    if (l + k) % 2 == 1:\n",
    "                        halbach_array[i][j][k] = ['E', 'S', 'W'][k % 3]\n",
    "    \n",
    "    return halbach_array"
   ]
  },
  {
   "cell_type": "code",
   "execution_count": 2,
   "id": "64ed077d-4f87-473b-b7eb-37264cba5844",
   "metadata": {},
   "outputs": [
    {
     "name": "stdout",
     "output_type": "stream",
     "text": [
      "[[['N', 'W', 'S'], ['N', 'W', 'S'], ['N', 'W', 'S']], [['N', 'S', 'S'], ['N', 'S', 'S'], ['N', 'S', 'S']], [['E', 'S', 'W'], ['E', 'S', 'W'], ['E', 'S', 'W']]]\n",
      "[[['N', 'W'], ['N', 'W']], [['N', 'S'], ['N', 'S']]]\n"
     ]
    }
   ],
   "source": [
    "# 3D Halbach array\n",
    "halbach_array_3d = generate_halbach_array((3, 3, 3))\n",
    "print(halbach_array_3d)\n",
    "\n",
    "# 4D Halbach array\n",
    "halbach_array_4d = generate_halbach_array((2, 2, 2, 2))\n",
    "print(halbach_array_4d)"
   ]
  },
  {
   "cell_type": "code",
   "execution_count": null,
   "id": "b7a0f53b-d40a-439f-9c44-ad3d2139035a",
   "metadata": {},
   "outputs": [],
   "source": []
  },
  {
   "cell_type": "code",
   "execution_count": null,
   "id": "ced83fef-f0f5-409f-8b6a-464874a60c4a",
   "metadata": {},
   "outputs": [],
   "source": []
  },
  {
   "cell_type": "markdown",
   "id": "0182b83f-1d30-4ca3-bc1d-ed1f0f6e9ca5",
   "metadata": {},
   "source": [
    "---"
   ]
  },
  {
   "cell_type": "code",
   "execution_count": null,
   "id": "624fcfc1-068f-4b3a-be8c-bcac2ff02c6d",
   "metadata": {},
   "outputs": [],
   "source": []
  },
  {
   "cell_type": "code",
   "execution_count": null,
   "id": "e8024e07-4f39-48fa-9d1b-fcc287eaa68e",
   "metadata": {},
   "outputs": [],
   "source": []
  },
  {
   "cell_type": "code",
   "execution_count": null,
   "id": "08ba43cb-0d01-4cb1-9468-3f17f7f3198e",
   "metadata": {},
   "outputs": [],
   "source": []
  },
  {
   "cell_type": "code",
   "execution_count": null,
   "id": "98c83f08-5539-435b-9d7a-ce1b9bfcb1c9",
   "metadata": {},
   "outputs": [],
   "source": []
  },
  {
   "cell_type": "code",
   "execution_count": null,
   "id": "97a63708-e1e7-4821-b213-8263fb99c084",
   "metadata": {},
   "outputs": [],
   "source": []
  },
  {
   "cell_type": "code",
   "execution_count": null,
   "id": "740a0ff2-8618-49b2-868a-75caf2dbf4d9",
   "metadata": {},
   "outputs": [],
   "source": []
  },
  {
   "cell_type": "code",
   "execution_count": null,
   "id": "80ca06e1-4307-4de5-9fd0-771c92f4233b",
   "metadata": {},
   "outputs": [],
   "source": []
  }
 ],
 "metadata": {
  "kernelspec": {
   "display_name": "Python 3 (ipykernel)",
   "language": "python",
   "name": "python3"
  },
  "language_info": {
   "codemirror_mode": {
    "name": "ipython",
    "version": 3
   },
   "file_extension": ".py",
   "mimetype": "text/x-python",
   "name": "python",
   "nbconvert_exporter": "python",
   "pygments_lexer": "ipython3",
   "version": "3.10.10"
  },
  "widgets": {
   "application/vnd.jupyter.widget-state+json": {
    "state": {},
    "version_major": 2,
    "version_minor": 0
   }
  }
 },
 "nbformat": 4,
 "nbformat_minor": 5
}
